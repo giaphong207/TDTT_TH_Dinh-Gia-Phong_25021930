{
 "cells": [
  {
   "cell_type": "markdown",
   "id": "38ce58d9",
   "metadata": {},
   "source": [
    "## 1"
   ]
  },
  {
   "cell_type": "code",
   "execution_count": 1,
   "id": "60baa1be",
   "metadata": {},
   "outputs": [
    {
     "name": "stdout",
     "output_type": "stream",
     "text": [
      "Số đảo ngược của 7102025 là 5202017\n"
     ]
    }
   ],
   "source": [
    "#Đảo ngược số\n",
    "n = int(input(\"Nhập vào 1 số nguyên n: \"))\n",
    "if n == 0:\n",
    "    print(f\"Chữ số đảo ngược của {n} là 0\")\n",
    "else:\n",
    "    so_dao_nguoc = 0\n",
    "    gttd_n = abs(n)\n",
    "    while gttd_n > 0:\n",
    "        chu_so_cuoi_cung = gttd_n % 10\n",
    "        so_dao_nguoc = so_dao_nguoc * 10 + chu_so_cuoi_cung\n",
    "        gttd_n = gttd_n // 10\n",
    "    if n < 0:\n",
    "        so_dao_nguoc = -so_dao_nguoc\n",
    "    print(f\"Số đảo ngược của {n} là {so_dao_nguoc}\")"
   ]
  },
  {
   "cell_type": "markdown",
   "id": "86f7d811",
   "metadata": {},
   "source": [
    "## 2"
   ]
  },
  {
   "cell_type": "code",
   "execution_count": 12,
   "id": "703581b7",
   "metadata": {},
   "outputs": [
    {
     "name": "stdout",
     "output_type": "stream",
     "text": [
      "Ban đầu: a = 3, b = 4\n",
      "Sau khi hoán đổi: a = 4, b = 3\n"
     ]
    }
   ],
   "source": [
    "#Hoán đổi 2 số\n",
    "a,b = map(int,input(\"Nhập vào 2 số nguyên a, b: \").split())\n",
    "print(f\"Ban đầu: a = {a}, b = {b}\")\n",
    "a = a ^ b\n",
    "b = a ^ b\n",
    "a = a ^ b\n",
    "print(f\"Sau khi hoán đổi: a = {a}, b = {b}\")"
   ]
  },
  {
   "cell_type": "markdown",
   "id": "f36d00f3",
   "metadata": {},
   "source": [
    "## 3"
   ]
  },
  {
   "cell_type": "code",
   "execution_count": 16,
   "id": "9165e81c",
   "metadata": {},
   "outputs": [
    {
     "name": "stdout",
     "output_type": "stream",
     "text": [
      "16 là luỹ thừa của 2!\n"
     ]
    }
   ],
   "source": [
    "#Kiểm tra luỹ thừa của 2\n",
    "n = int(input(\"Nhập vào 1 số nguyên dương n: \"))\n",
    "if (n & (n-1)) == 0:\n",
    "    print(f\"{n} là luỹ thừa của 2!\")\n",
    "else:\n",
    "    print(f\"{n} không phải là luỹ thừa của 2!\")"
   ]
  },
  {
   "cell_type": "markdown",
   "id": "e2ef2d6c",
   "metadata": {},
   "source": [
    "## 4"
   ]
  },
  {
   "cell_type": "code",
   "execution_count": 4,
   "id": "b118fb9f",
   "metadata": {},
   "outputs": [
    {
     "name": "stdout",
     "output_type": "stream",
     "text": [
      "Kết quả phép chia m = 2007.0 cho n = -22.4 làm tròn xuống là -90\n"
     ]
    }
   ],
   "source": [
    "#Viết chương trình chia một số m cho n, kết quả thu được làm tròn xuống\n",
    "import math\n",
    "m, n = map(float,input(\"Nhập vào 2 số thực m, n: \").split())\n",
    "if n == 0:\n",
    "    print(\"Phép chia không thể thực hiện được do mẫu phải khác 0!\")\n",
    "else:\n",
    "    phep_chia = m / n\n",
    "    print(f\"Kết quả phép chia m = {m} cho n = {n} làm tròn xuống là {math.floor(phep_chia)}\")"
   ]
  },
  {
   "cell_type": "markdown",
   "id": "cc03890c",
   "metadata": {},
   "source": [
    "## 5"
   ]
  },
  {
   "cell_type": "code",
   "execution_count": 3,
   "id": "61fa51b5",
   "metadata": {},
   "outputs": [
    {
     "name": "stdout",
     "output_type": "stream",
     "text": [
      "Kết quả phép chia m = 2007.0 cho n = -22.4 làm tròn lên là -89\n"
     ]
    }
   ],
   "source": [
    "#Viết chương trình chia một số m cho n, kết quả thu được làm tròn lên\n",
    "import math\n",
    "m, n = map(float,input(\"Nhập vào 2 số thực m, n: \").split())\n",
    "if n == 0:\n",
    "    print(\"Phép chia không thể thực hiện được do mẫu phải khác 0!\")\n",
    "else:\n",
    "    phep_chia = m / n\n",
    "    print(f\"Kết quả phép chia m = {m} cho n = {n} làm tròn lên là {math.ceil(phep_chia)}\")"
   ]
  },
  {
   "cell_type": "markdown",
   "id": "ae53e5c6",
   "metadata": {},
   "source": [
    "## 6"
   ]
  },
  {
   "cell_type": "code",
   "execution_count": 21,
   "id": "4db283b1",
   "metadata": {},
   "outputs": [
    {
     "name": "stdout",
     "output_type": "stream",
     "text": [
      "Even\n"
     ]
    }
   ],
   "source": [
    "#Kiểm tra chẵn lẻ\n",
    "n = int(input(\"Nhập vào 1 số nguyên dương n: \"))\n",
    "if n % 2 == 0:\n",
    "    print(\"Even\")\n",
    "else:\n",
    "    print(\"Odd\")"
   ]
  },
  {
   "cell_type": "markdown",
   "id": "6556e749",
   "metadata": {},
   "source": [
    "## 7"
   ]
  },
  {
   "cell_type": "code",
   "execution_count": 22,
   "id": "1446e1e5",
   "metadata": {},
   "outputs": [
    {
     "name": "stdout",
     "output_type": "stream",
     "text": [
      "No\n"
     ]
    }
   ],
   "source": [
    "##Check negative numbers\n",
    "a, b = map(int, input(\"Nhập vào 2 số nguyên a, b: \").split())\n",
    "if a < 0 and b < 0:\n",
    "    print(\"Yes\")\n",
    "else:\n",
    "    print(\"No\")"
   ]
  },
  {
   "cell_type": "markdown",
   "id": "2889da83",
   "metadata": {},
   "source": [
    "## 8"
   ]
  },
  {
   "cell_type": "code",
   "execution_count": 23,
   "id": "2fd498f6",
   "metadata": {},
   "outputs": [
    {
     "name": "stdout",
     "output_type": "stream",
     "text": [
      "True\n"
     ]
    }
   ],
   "source": [
    "a, b = input(\"Nhập vào 2 chuỗi kí tự chữ cái thường a, b (cách nhau bằng dấu cách): \").split()\n",
    "if len(a) > len(b):\n",
    "    print(\"True\")\n",
    "else:\n",
    "    print(\"False\")"
   ]
  },
  {
   "cell_type": "markdown",
   "id": "018beefd",
   "metadata": {},
   "source": [
    "## 9\n"
   ]
  },
  {
   "cell_type": "code",
   "execution_count": 24,
   "id": "814755f7",
   "metadata": {},
   "outputs": [
    {
     "name": "stdout",
     "output_type": "stream",
     "text": [
      "No\n"
     ]
    }
   ],
   "source": [
    "#Triangle\n",
    "a,b,c = map(int,input(\"Nhập vào độ dài 3 cạnh của 1 tam giác ( 3 số nguyên dương ): \"). split())\n",
    "if (a + b > c) and (b + c > a) and (a + c > b):\n",
    "    print(\"Yes\")\n",
    "else:\n",
    "    print(\"No\")"
   ]
  },
  {
   "cell_type": "markdown",
   "id": "863fba17",
   "metadata": {},
   "source": [
    "## 10"
   ]
  },
  {
   "cell_type": "code",
   "execution_count": 25,
   "id": "6970da93",
   "metadata": {},
   "outputs": [
    {
     "name": "stdout",
     "output_type": "stream",
     "text": [
      "Số lớn nhất trong 4 số nguyên là: 100\n"
     ]
    }
   ],
   "source": [
    "#Largest number\n",
    "a, b, c, d = map(int,input(\"Nhập vào 4 số nguyên a, b, c, d: \").split())\n",
    "print(f\"Số lớn nhất trong 4 số nguyên là: {max(a, b, c, d)}\")\n"
   ]
  },
  {
   "cell_type": "markdown",
   "id": "6da64e86",
   "metadata": {},
   "source": [
    "## 11"
   ]
  },
  {
   "cell_type": "code",
   "execution_count": 26,
   "id": "e7fab6ee",
   "metadata": {},
   "outputs": [
    {
     "name": "stdout",
     "output_type": "stream",
     "text": [
      "Tam giác cân!\n"
     ]
    }
   ],
   "source": [
    "#Phân loại tam giác \n",
    "a,b,c = map(int,input(\"Nhập vào độ dài 3 cạnh của 1 tam giác ( 3 số nguyên dương ): \"). split())\n",
    "if (a + b > c) and (b + c > a) and (a + c > b):\n",
    "    if a == b == c:\n",
    "        print(\"Tam giác đều!\")\n",
    "    elif a == b or b == c or a == c:\n",
    "        print(\"Tam giác cân!\")\n",
    "    else:\n",
    "        print(\"Tam giác thường!\")\n",
    "else:\n",
    "    print(\"Không phải tam giác!\")"
   ]
  },
  {
   "cell_type": "markdown",
   "id": "df318d61",
   "metadata": {},
   "source": [
    "## 12"
   ]
  },
  {
   "cell_type": "code",
   "execution_count": 40,
   "id": "d1543399",
   "metadata": {},
   "outputs": [
    {
     "name": "stdout",
     "output_type": "stream",
     "text": [
      "Yes\n"
     ]
    }
   ],
   "source": [
    "#Kiểm tra năm nhuận\n",
    "nam = int(input(\"Nhập vào năm: \"))\n",
    "if not nam > 0:\n",
    "    print(\"Năm là số nguyên dương!\")\n",
    "else:\n",
    "    if (nam % 4 == 0 and nam % 100 != 0) or (nam % 400 == 0):\n",
    "        print(\"Yes\")\n",
    "    else:\n",
    "        print(\"No\")"
   ]
  },
  {
   "cell_type": "markdown",
   "id": "c3ba4ad1",
   "metadata": {},
   "source": [
    "## 13"
   ]
  },
  {
   "cell_type": "code",
   "execution_count": 39,
   "id": "a2182657",
   "metadata": {},
   "outputs": [
    {
     "name": "stdout",
     "output_type": "stream",
     "text": [
      "Tiền điện tháng này là 175000\n"
     ]
    }
   ],
   "source": [
    "#Tính tiền điện\n",
    "kWh = int(input(\"Nhập vào số kWh điện tiêu thụ: \"))\n",
    "if not kWh > 0:\n",
    "    print(\"Số điện tiêu thụ không âm!\")\n",
    "else:\n",
    "    if kWh <= 50:\n",
    "        tien_dien = kWh * 1500\n",
    "    elif kWh <= 100:\n",
    "        tien_dien = (kWh - 50) * 2000 + 50 * 1500\n",
    "    else:\n",
    "        tien_dien = (kWh - 100) * 3000 + 50 * 2000 + 50 * 1500\n",
    "    print(f\"Tiền điện tháng này là {tien_dien}\")  "
   ]
  },
  {
   "cell_type": "markdown",
   "id": "c53df2b9",
   "metadata": {},
   "source": [
    "## 14"
   ]
  },
  {
   "cell_type": "code",
   "execution_count": 36,
   "id": "2fa79db4",
   "metadata": {},
   "outputs": [
    {
     "name": "stdout",
     "output_type": "stream",
     "text": [
      "Vô nghiệm\n"
     ]
    }
   ],
   "source": [
    "#Giải phương trình bậc nhất\n",
    "a, b = map(float,input(\"Nhập vào 2 số thực a, b của phường trình bậc nhất ax + b = 0 là: \").split())\n",
    "if a == b == 0:\n",
    "    print(\"Vô số nghiệm\")\n",
    "elif a == 0 and b != 0:\n",
    "    print(\"Vô nghiệm\")\n",
    "else:\n",
    "    nghiem = - b / a\n",
    "    print(f\"Nghiệm của phương trình bậc nhất ax + b = 0 là {nghiem:.2f}\")"
   ]
  },
  {
   "cell_type": "markdown",
   "id": "02ad699c",
   "metadata": {},
   "source": [
    "## 15"
   ]
  },
  {
   "cell_type": "code",
   "execution_count": 33,
   "id": "626400ff",
   "metadata": {},
   "outputs": [
    {
     "name": "stdout",
     "output_type": "stream",
     "text": [
      "Giỏi!\n"
     ]
    }
   ],
   "source": [
    "#Xếp loại học lực\n",
    "diem = float(input(\"Nhập điểm của bạn (số nguyên dương trong đoạn từ 0 - 10): \"))\n",
    "if diem < 0 or diem > 10:\n",
    "    print(\"Điểm nằm trong đoạn 0 - 10!\")\n",
    "elif diem >= 8.0:\n",
    "    print(\"Giỏi!\")\n",
    "elif diem >= 6.5:\n",
    "    print(\"Khá!\")\n",
    "elif diem >= 5.0:\n",
    "    print(\"Trung bình!\")\n",
    "else:\n",
    "    print(\"Yếu!\")"
   ]
  },
  {
   "cell_type": "markdown",
   "id": "ae8205fb",
   "metadata": {},
   "source": [
    "## 16"
   ]
  },
  {
   "cell_type": "code",
   "execution_count": 32,
   "id": "bbfb603a",
   "metadata": {},
   "outputs": [
    {
     "name": "stdout",
     "output_type": "stream",
     "text": [
      "-4 -5 -5\n"
     ]
    }
   ],
   "source": [
    "#Rounding\n",
    "n = float(input(\"Nhập vào 1 số thực: \"))\n",
    "so_nguyen = int(n)\n",
    "#Làm tròn xuống\n",
    "if n >= 0:\n",
    "    round_down = so_nguyen\n",
    "else:\n",
    "    if n != so_nguyen:\n",
    "        round_down = so_nguyen - 1\n",
    "    else:\n",
    "        round_down = so_nguyen\n",
    "#Làm tròn lên\n",
    "if n <= 0:\n",
    "    round_up = so_nguyen\n",
    "else:\n",
    "    if n != so_nguyen:\n",
    "        round_up = so_nguyen + 1\n",
    "    else:\n",
    "        round_up = so_nguyen\n",
    "#Làm tròn tới số nguyên gần nhất\n",
    "delta = n - so_nguyen\n",
    "if abs(delta) >= 0.5:\n",
    "    if n < 0:\n",
    "        round_nearest = so_nguyen - 1\n",
    "    else:\n",
    "        round_nearest = so_nguyen + 1\n",
    "else:\n",
    "    round_nearest = so_nguyen\n",
    "print(f\"{round_up} {round_down} {round_nearest}\")"
   ]
  },
  {
   "cell_type": "markdown",
   "id": "12ec4cc0",
   "metadata": {},
   "source": [
    "## 17"
   ]
  },
  {
   "cell_type": "code",
   "execution_count": 27,
   "id": "bb88f77e",
   "metadata": {},
   "outputs": [
    {
     "name": "stdout",
     "output_type": "stream",
     "text": [
      "Không phải tam giác!\n"
     ]
    }
   ],
   "source": [
    "#Phân loại tam giác \n",
    "a,b,c = map(int,input(\"Nhập vào độ dài 3 cạnh của 1 tam giác ( 3 số nguyên dương ): \"). split())\n",
    "if (a + b > c) and (b + c > a) and (a + c > b):\n",
    "    if a == b == c:\n",
    "        print(\"Tam giác đều!\")\n",
    "    elif a == b or b == c or a == c:\n",
    "        print(\"Tam giác cân!\")\n",
    "    else:\n",
    "        print(\"Tam giác thường!\")\n",
    "else:\n",
    "    print(\"Không phải tam giác!\")"
   ]
  }
 ],
 "metadata": {
  "kernelspec": {
   "display_name": "Python 3",
   "language": "python",
   "name": "python3"
  },
  "language_info": {
   "codemirror_mode": {
    "name": "ipython",
    "version": 3
   },
   "file_extension": ".py",
   "mimetype": "text/x-python",
   "name": "python",
   "nbconvert_exporter": "python",
   "pygments_lexer": "ipython3",
   "version": "3.13.7"
  }
 },
 "nbformat": 4,
 "nbformat_minor": 5
}
