{
 "cells": [
  {
   "cell_type": "markdown",
   "id": "f33703ad",
   "metadata": {},
   "source": [
    "## Bài 1"
   ]
  },
  {
   "cell_type": "code",
   "execution_count": 1,
   "id": "ae3dbfb1",
   "metadata": {},
   "outputs": [
    {
     "name": "stdout",
     "output_type": "stream",
     "text": [
      "168\n"
     ]
    }
   ],
   "source": [
    "n = int(input(\"Nhập vào số nguyên n: \"))\n",
    "print(2 * n)"
   ]
  },
  {
   "cell_type": "markdown",
   "id": "0e9894ec",
   "metadata": {},
   "source": [
    "## Bài 2"
   ]
  },
  {
   "cell_type": "code",
   "execution_count": 6,
   "id": "046b16df",
   "metadata": {},
   "outputs": [
    {
     "name": "stdout",
     "output_type": "stream",
     "text": [
      "Diện tích trồng cây với chiều rộng = 9.0 và chiều dài = 10.0 là: 26.41\n"
     ]
    }
   ],
   "source": [
    "a = float(input(\"Chiều rộng khu đất là: \"))\n",
    "b = float(input(\"Chiều dài khu đất là: \"))\n",
    "if a <= 0 or b <= 0:\n",
    "    print(\"LỖI: Chiều dài, chiều rộng là các số dương!\")\n",
    "elif a > b:\n",
    "    print(\"LỖI: Chiều rộng phải nhỏ hơn chiều dài!\")\n",
    "else:\n",
    "    dien_tich_trong_cay = (a * b) - 3.14 * ((a / 2) ** 2)\n",
    "    print(f\"Diện tích trồng cây với chiều rộng = {a} và chiều dài = {b} là: {dien_tich_trong_cay:.2f}\")"
   ]
  },
  {
   "cell_type": "markdown",
   "id": "fd5d59ab",
   "metadata": {},
   "source": [
    "## Bài 3"
   ]
  },
  {
   "cell_type": "code",
   "execution_count": 7,
   "id": "11135f80",
   "metadata": {},
   "outputs": [
    {
     "name": "stdout",
     "output_type": "stream",
     "text": [
      "Kí tự h chuyển sang chữ hoa là H\n"
     ]
    }
   ],
   "source": [
    "c = input(\"Nhập vào một kí tự: \")\n",
    "if len(c) > 0: \n",
    "    char = c[0] \n",
    "else: \n",
    "    print(\"Không có kí tự nào được dùng!\")\n",
    "    exit() \n",
    "if char.isupper():\n",
    "    print(f\"Kí tự {char} chuyển sang chữ thường là {ket_qua}\")\n",
    "elif char.islower():\n",
    "    ket_qua =char.upper()\n",
    "    print(f\"Kí tự {char} chuyển sang chữ hoa là {ket_qua}\")\n",
    "else:\n",
    "    print(f\"Kí tự {char} không phải chữ cái (a - z hoặc A - Z)\")"
   ]
  },
  {
   "cell_type": "markdown",
   "id": "f4a279a2",
   "metadata": {},
   "source": [
    "## Bài 4\n"
   ]
  },
  {
   "cell_type": "code",
   "execution_count": 8,
   "id": "705f3090",
   "metadata": {},
   "outputs": [
    {
     "name": "stdout",
     "output_type": "stream",
     "text": [
      "{k} là kí tự alphabet\n"
     ]
    }
   ],
   "source": [
    "c = input(\"Nhập vào một kí tự: \")\n",
    "if len(c) > 0:\n",
    "    char = c[0]\n",
    "else:\n",
    "    print(\"Không có kí tự nào được dùng!\")\n",
    "    exit()\n",
    "if char.isalpha(): \n",
    "    print(f\"{{{char}}} là kí tự alphabet\") \n",
    "else:\n",
    "    print(f\"{{{char}}} không phải là kí tự alphabet\")"
   ]
  },
  {
   "cell_type": "markdown",
   "id": "fd2259cc",
   "metadata": {},
   "source": [
    "## Bài 5"
   ]
  },
  {
   "cell_type": "code",
   "execution_count": 9,
   "id": "1e68c084",
   "metadata": {},
   "outputs": [
    {
     "name": "stdout",
     "output_type": "stream",
     "text": [
      "Chữ cái thường liền trước chữ cái thường h tương ứng của H là g\n"
     ]
    }
   ],
   "source": [
    "def main():\n",
    "    c = input(\"Nhập vào chữ cái hoa: \")\n",
    "    if len(c) == 0:\n",
    "        print(\"LỖI: Không có chữ cái hoa được nhập!\")\n",
    "        return\n",
    "    char_hoa = c[0]\n",
    "    if char_hoa == \"A\":\n",
    "         ket_qua = \"z\" \n",
    "         print(f\"Chữ cái thường liền trước chữ cái thường a tương ứng với {char_hoa} là {ket_qua}\")\n",
    "         return\n",
    "    if not char_hoa.isupper():\n",
    "        print(f\"LỖI: Kí tự {char_hoa} không phải kí tự in hoa\")\n",
    "        return\n",
    "    char_thuong = char_hoa.lower()\n",
    "    ket_qua = chr(ord(char_thuong) - 1)\n",
    "    print(f\"Chữ cái thường liền trước chữ cái thường {char_thuong} tương ứng của {char_hoa} là {ket_qua}\")\n",
    "if __name__ == \"__main__\":\n",
    "    main()"
   ]
  },
  {
   "cell_type": "markdown",
   "id": "9dcde9eb",
   "metadata": {},
   "source": [
    "## Bài 6"
   ]
  },
  {
   "cell_type": "code",
   "execution_count": 10,
   "id": "ca656f9f",
   "metadata": {},
   "outputs": [
    {
     "name": "stdout",
     "output_type": "stream",
     "text": [
      "Diện tích tam giác là: 26.8\n"
     ]
    }
   ],
   "source": [
    "a, b, c = map(float,input(\"Nhập vào 3 số a, b, c: \").split())\n",
    "if a + b > c and a + c > b and b + c > a:\n",
    "    p = (a + b + c) / 2\n",
    "    import math\n",
    "    S = math.sqrt( p * (p - a) * (p - b) * (p - c))\n",
    "    print(f\"Diện tích tam giác là: {S:.1f}\")\n",
    "else:\n",
    "    print(\"Không phải độ dài 3 cạnh của một tam giác!\")"
   ]
  },
  {
   "cell_type": "markdown",
   "id": "ccc79e12",
   "metadata": {},
   "source": [
    "## Bài 7"
   ]
  },
  {
   "cell_type": "code",
   "execution_count": 13,
   "id": "fb535fab",
   "metadata": {},
   "outputs": [
    {
     "name": "stdout",
     "output_type": "stream",
     "text": [
      "Chữ cái thứ năm là s\n",
      "Chữ cái thứ chín là w\n"
     ]
    }
   ],
   "source": [
    "chuoi_ki_tu = input(\"Nhập vào một chuỗi gồm cái kí tự thường độ dài >= 20: \")\n",
    "if len(chuoi_ki_tu) < 20:\n",
    "    print(\"LỖI: Chuỗi quá ngắn (<20 kí tự)!\")\n",
    "elif not chuoi_ki_tu.islower(): \n",
    "    print(\"LỖI: Chuỗi phải là kí tự thường (không được chứa chữ hoa, số hoặc kí tự đặc biệt)!\")\n",
    "else:\n",
    "    print(f\"Chữ cái thứ năm là {chuoi_ki_tu[4]}\")\n",
    "    print(f\"Chữ cái thứ chín là {chuoi_ki_tu[8]}\")"
   ]
  },
  {
   "cell_type": "markdown",
   "id": "c883b285",
   "metadata": {},
   "source": [
    "## Bài 8"
   ]
  },
  {
   "cell_type": "code",
   "execution_count": 14,
   "id": "cc4df322",
   "metadata": {},
   "outputs": [
    {
     "name": "stdout",
     "output_type": "stream",
     "text": [
      "Họ và tên: ABCD\n",
      "Số tiền phải trả: 3105520 đồng\n"
     ]
    }
   ],
   "source": [
    "ten_chu_ho = input(\"Tên chủ hộ: \")\n",
    "chi_so_thang_truoc = int(input(\"Chỉ số điện kế tháng trước (kWh): \"))\n",
    "chi_so_thang_nay = int(input(\"Chỉ số điện kế tháng này (kWh): \"))\n",
    "if chi_so_thang_truoc > chi_so_thang_nay:\n",
    "    print(\"Lỗi: Chỉ số điện kế tháng này phải lớn hơn chỉ số điện kế tháng trước!\")\n",
    "else:\n",
    "    so_dien_tieu_thu = chi_so_thang_nay - chi_so_thang_truoc\n",
    "    tong_tien_dien = 0\n",
    "    bac_1 = min(so_dien_tieu_thu, 50)   \n",
    "    tong_tien_dien += bac_1 * 1984\n",
    "    so_dien_con_lai = so_dien_tieu_thu - bac_1\n",
    "    if so_dien_con_lai > 0:\n",
    "        bac_2 = min(so_dien_con_lai, 50) \n",
    "        tong_tien_dien += bac_2 * 2050\n",
    "        so_dien_con_lai -= bac_2\n",
    "    if so_dien_con_lai > 0:\n",
    "        bac_3 = min(so_dien_con_lai, 100)\n",
    "        tong_tien_dien += bac_3 * 2380\n",
    "        so_dien_con_lai -= bac_3\n",
    "    if so_dien_con_lai > 0:\n",
    "        bac_4 = min(so_dien_con_lai, 100)\n",
    "        tong_tien_dien += bac_4 * 2998\n",
    "        so_dien_con_lai -= bac_4\n",
    "    if so_dien_con_lai > 0:\n",
    "        bac_5 = min(so_dien_con_lai, 100)\n",
    "        tong_tien_dien += bac_5 * 3350\n",
    "        so_dien_con_lai -= bac_5\n",
    "    if so_dien_con_lai > 0:\n",
    "        bac_6 = so_dien_con_lai\n",
    "        tong_tien_dien += bac_6 * 3460\n",
    "    print(f\"Họ và tên: {ten_chu_ho}\")\n",
    "    print(f\"Số tiền phải trả: {round(tong_tien_dien)} đồng\")"
   ]
  }
 ],
 "metadata": {
  "kernelspec": {
   "display_name": "Python 3",
   "language": "python",
   "name": "python3"
  },
  "language_info": {
   "codemirror_mode": {
    "name": "ipython",
    "version": 3
   },
   "file_extension": ".py",
   "mimetype": "text/x-python",
   "name": "python",
   "nbconvert_exporter": "python",
   "pygments_lexer": "ipython3",
   "version": "3.13.7"
  }
 },
 "nbformat": 4,
 "nbformat_minor": 5
}
