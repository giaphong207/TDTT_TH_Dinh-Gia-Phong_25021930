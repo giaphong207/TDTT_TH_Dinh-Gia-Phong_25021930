{
 "cells": [
  {
   "cell_type": "markdown",
   "id": "41344464",
   "metadata": {},
   "source": [
    "## W2A1\n"
   ]
  },
  {
   "cell_type": "code",
   "execution_count": 1,
   "id": "8b2bd1d8",
   "metadata": {},
   "outputs": [
    {
     "name": "stdout",
     "output_type": "stream",
     "text": [
      "Hello World!\n"
     ]
    }
   ],
   "source": [
    "print(\"Hello World!\")"
   ]
  },
  {
   "cell_type": "markdown",
   "id": "23433a61",
   "metadata": {},
   "source": [
    "## W2A2"
   ]
  },
  {
   "cell_type": "code",
   "execution_count": 2,
   "id": "4cf937eb",
   "metadata": {},
   "outputs": [
    {
     "name": "stdout",
     "output_type": "stream",
     "text": [
      "Xin chào W2A2!\n",
      "Chúc bạn một ngày thật tuyệt vời, W2A2\n"
     ]
    }
   ],
   "source": [
    "ten = input(\"Nhập tên của bạn: \")\n",
    "print(\"Xin chào \" + ten + \"!\")\n",
    "print(\"Chúc bạn một ngày thật tuyệt vời,\", ten)"
   ]
  },
  {
   "cell_type": "markdown",
   "id": "d07bfec0",
   "metadata": {},
   "source": [
    "## W2A3"
   ]
  },
  {
   "cell_type": "code",
   "execution_count": 3,
   "id": "fb635511",
   "metadata": {},
   "outputs": [
    {
     "name": "stdout",
     "output_type": "stream",
     "text": [
      "5 + 6 = 11\n",
      "5 - 6 = -1\n",
      "5 * 6 = 30\n",
      "5 // 6 = 0\n",
      "5 % 6 = 5\n",
      "5 / 6 = 0.83\n"
     ]
    }
   ],
   "source": [
    "a = int(input())\n",
    "b = int(input())\n",
    "tong = a + b\n",
    "hieu = a - b\n",
    "tich = a * b\n",
    "phan_nguyen = a // b\n",
    "phan_du = a % b\n",
    "chia_thuc = a / b\n",
    "print(f\"{a} + {b} = {tong}\")\n",
    "print(f\"{a} - {b} = {hieu}\")\n",
    "print(f\"{a} * {b} = {tich}\")\n",
    "print(f\"{a} // {b} = {phan_nguyen}\")\n",
    "print(f\"{a} % {b} = {phan_du}\")\n",
    "print(f\"{a} / {b} = {chia_thuc:.2f}\")"
   ]
  },
  {
   "cell_type": "markdown",
   "id": "e59e44d4",
   "metadata": {},
   "source": [
    "## W2A4"
   ]
  },
  {
   "cell_type": "code",
   "execution_count": 9,
   "id": "5e482c71",
   "metadata": {},
   "outputs": [
    {
     "name": "stdout",
     "output_type": "stream",
     "text": [
      "Điểm trung bình của 6 môn học: 8.0\n"
     ]
    }
   ],
   "source": [
    "scores = input().split()\n",
    "a1, b1, c1, a2, b2, a3 = map(float, scores)\n",
    "tb = ((a1 + b1 + c1) + (a2 + b2) * 2 + a3 * 3) / 10 \n",
    "print(f\"Điểm trung bình của 6 môn học: {tb:.1f}\")"
   ]
  },
  {
   "cell_type": "markdown",
   "id": "238d3aa1",
   "metadata": {},
   "source": [
    "## W2A5"
   ]
  },
  {
   "cell_type": "code",
   "execution_count": 10,
   "id": "a347aa0a",
   "metadata": {},
   "outputs": [
    {
     "name": "stdout",
     "output_type": "stream",
     "text": [
      "256\n"
     ]
    }
   ],
   "source": [
    "a, b = map(int, input().split())\n",
    "result = a ** b\n",
    "print(result)"
   ]
  },
  {
   "cell_type": "markdown",
   "id": "8e9b17bf",
   "metadata": {},
   "source": [
    "## W2A6"
   ]
  },
  {
   "cell_type": "code",
   "execution_count": 11,
   "id": "878ac6c6",
   "metadata": {},
   "outputs": [
    {
     "name": "stdout",
     "output_type": "stream",
     "text": [
      "Mã unicode của 'g' là: 103\n",
      "Ký tự hoa tương ứng là: 'G'\n",
      "Mã unicode của 'G' là: 71\n"
     ]
    }
   ],
   "source": [
    "char = input(\"Nhập vào một ký tự chữ cái thường (a-z): \")\n",
    "if len(char) == 1 and ' a' <= char <= 'z':\n",
    "    unicode_code = ord(char)\n",
    "    print(f\"Mã unicode của '{char}' là: {unicode_code}\")\n",
    "    upper_char_code = unicode_code - 32\n",
    "    upper_char = chr(upper_char_code)\n",
    "    print(f\"Ký tự hoa tương ứng là: '{upper_char}'\")\n",
    "    print(f\"Mã unicode của '{upper_char}' là: {ord(upper_char)}\")\n",
    "else:\n",
    "    print(\"Vui lòng nhập đúng một ký tự chữ cái thường từ a đến z!\")"
   ]
  },
  {
   "cell_type": "markdown",
   "id": "dd033496",
   "metadata": {},
   "source": [
    "## W2A7"
   ]
  },
  {
   "cell_type": "code",
   "execution_count": 12,
   "id": "367e22f4",
   "metadata": {},
   "outputs": [
    {
     "name": "stdout",
     "output_type": "stream",
     "text": [
      "A = ((13 ** 2) * 3) + 5 = 512\n",
      "B = 13**2*3 + 5 = 512\n",
      "A==B: True\n"
     ]
    }
   ],
   "source": [
    "A = ((13 ** 2) * 3) + 5\n",
    "B = 13**2*3 + 5\n",
    "print(f\"A = ((13 ** 2) * 3) + 5 = {A}\")\n",
    "print(f\"B = 13**2*3 + 5 = {B}\")\n",
    "print(f\"A==B: {A == B}\")"
   ]
  },
  {
   "cell_type": "markdown",
   "id": "d1ee0380",
   "metadata": {},
   "source": [
    "## W2A8"
   ]
  },
  {
   "cell_type": "code",
   "execution_count": 13,
   "id": "7f1631b2",
   "metadata": {},
   "outputs": [
    {
     "name": "stdout",
     "output_type": "stream",
     "text": [
      "Nhiệt độ 78.0°C = 172.40°F\n"
     ]
    }
   ],
   "source": [
    "celcius = float(input(\"Nhập nhiệt độ Celcius: \"))\n",
    "fahrenheit = 9/5 * celcius + 32\n",
    "print(f\"Nhiệt độ {celcius}°C = {fahrenheit:.2f}°F\")"
   ]
  },
  {
   "cell_type": "markdown",
   "id": "e040b42c",
   "metadata": {},
   "source": [
    "## W2A9"
   ]
  },
  {
   "cell_type": "code",
   "execution_count": 14,
   "id": "ec9dcf28",
   "metadata": {},
   "outputs": [
    {
     "name": "stdout",
     "output_type": "stream",
     "text": [
      "Tổng số tiền Đạt phải trả là: $803.80\n"
     ]
    }
   ],
   "source": [
    "x = float(input(\"Nhập giá tiền chiếc đồng hồ Monavo (USD): \"))\n",
    "total_cost = x + 10 + x * 0.30 + x * 0.10\n",
    "total_cost = round(total_cost, 2)\n",
    "print(f\"Tổng số tiền Đạt phải trả là: ${total_cost:.2f}\")"
   ]
  },
  {
   "cell_type": "markdown",
   "id": "f734fda3",
   "metadata": {},
   "source": [
    "## W2A10"
   ]
  },
  {
   "cell_type": "code",
   "execution_count": 16,
   "id": "83ec85f7",
   "metadata": {},
   "outputs": [
    {
     "name": "stdout",
     "output_type": "stream",
     "text": [
      "Hi HEHE, HIHI and KAKA.\n"
     ]
    }
   ],
   "source": [
    "names_input = input(\"Nhập tên 3 người (cách nhau bằng dấu cách): \")\n",
    "names = names_input.split()\n",
    "if len(names) !=3:\n",
    "    print(\"Vui lòng nhập đúng 3 tên!\")\n",
    "else:\n",
    "    print(f\"Hi {names[2]}, {names[1]} and {names[0]}.\")"
   ]
  },
  {
   "cell_type": "markdown",
   "id": "601a335d",
   "metadata": {},
   "source": [
    "## W2A11"
   ]
  },
  {
   "cell_type": "code",
   "execution_count": 17,
   "id": "fa24407d",
   "metadata": {},
   "outputs": [
    {
     "name": "stdout",
     "output_type": "stream",
     "text": [
      "9 giờ 59 phút = 35940 giây\n"
     ]
    }
   ],
   "source": [
    "h = int(input(\"Nhập số giờ: \"))\n",
    "m = int(input(\"Nhập số phút: \"))\n",
    "total_seconds = h * 3600 + m * 60\n",
    "print(f\"{h} giờ {m} phút = {total_seconds} giây\")"
   ]
  },
  {
   "cell_type": "markdown",
   "id": "27153218",
   "metadata": {},
   "source": [
    "## W2A12"
   ]
  },
  {
   "cell_type": "code",
   "execution_count": 4,
   "id": "cc876448",
   "metadata": {},
   "outputs": [
    {
     "name": "stdout",
     "output_type": "stream",
     "text": [
      "Khối rubik 1x1x1: 6 miếng dán\n",
      "Khối rubik 2x2x2: 24 miếng dán\n",
      "Khối rubik 3x3x3: 54 miếng dán\n",
      "Khối rubik 4x4x4: 96 miếng dán\n"
     ]
    }
   ],
   "source": [
    "def rubik_stickers(n):\n",
    "    \"\"\"\n",
    "    Tính số lượng miếng dán cần thiết cho khối rubik cạnh n\n",
    "    Args: \n",
    "       n (int): Độ dài cạnh của khối rubik\n",
    "    Returns:\n",
    "       int: Số lượng miếng dán cần thiết\n",
    "    \"\"\"\n",
    "    return 6 * n * n\n",
    "print(f\"Khối rubik 1x1x1: {rubik_stickers(1)} miếng dán\")\n",
    "print(f\"Khối rubik 2x2x2: {rubik_stickers(2)} miếng dán\")\n",
    "print(f\"Khối rubik 3x3x3: {rubik_stickers(3)} miếng dán\")\n",
    "print(f\"Khối rubik 4x4x4: {rubik_stickers(4)} miếng dán\")\n",
    "    "
   ]
  },
  {
   "cell_type": "markdown",
   "id": "4dffeea7",
   "metadata": {},
   "source": [
    "## W2A13"
   ]
  },
  {
   "cell_type": "code",
   "execution_count": 19,
   "id": "bafc53a8",
   "metadata": {},
   "outputs": [
    {
     "name": "stdout",
     "output_type": "stream",
     "text": [
      "Hàng đơn vị của phép tính tích giữa a và b là: 0\n"
     ]
    }
   ],
   "source": [
    "a = int(input(\"Nhập số nguyên dương a = \"))\n",
    "b = int(input(\"Nhập số nguyên dương b = \"))\n",
    "if a>0 and b>0:\n",
    "    c = (a * b) % 10\n",
    "    print(f\"Hàng đơn vị của phép tính tích giữa a và b là: {c}\")\n",
    "else:\n",
    "    print(\"Vui lòng nhập số nguyên dương!\")"
   ]
  },
  {
   "cell_type": "markdown",
   "id": "0eb48a66",
   "metadata": {},
   "source": [
    "## W2A14"
   ]
  },
  {
   "cell_type": "code",
   "execution_count": 20,
   "id": "e4eabe00",
   "metadata": {},
   "outputs": [
    {
     "name": "stdout",
     "output_type": "stream",
     "text": [
      "Trước khi hoán đổi: a = 22, b = 4\n",
      "Sau khi hoán đổi: a = 4, b = 22\n"
     ]
    }
   ],
   "source": [
    "a = 22\n",
    "b = 4\n",
    "print(f\"Trước khi hoán đổi: a = {a}, b = {b}\")\n",
    "a, b = b, a\n",
    "print(f\"Sau khi hoán đổi: a = {a}, b = {b}\")"
   ]
  },
  {
   "cell_type": "markdown",
   "id": "315a7709",
   "metadata": {},
   "source": [
    "## W2A15"
   ]
  },
  {
   "cell_type": "code",
   "execution_count": 21,
   "id": "4db705a3",
   "metadata": {},
   "outputs": [
    {
     "name": "stdout",
     "output_type": "stream",
     "text": [
      "Số sao thứ 14 là: 1093\n",
      "\n",
      "Một số sao đầu tiên:\n",
      "S(1) = 1\n",
      "S(2) = 13\n",
      "S(3) = 37\n",
      "S(4) = 73\n",
      "S(5) = 121\n",
      "S(6) = 181\n",
      "S(7) = 253\n",
      "S(8) = 337\n",
      "S(9) = 433\n",
      "S(10) = 541\n"
     ]
    }
   ],
   "source": [
    "def star_number(n):\n",
    "    \"\"\"\n",
    "    Tính số sao thứ n (star number)\n",
    "    Số sao là số hình học trung tâm đại diện cho hình lục giác có tâm\n",
    "    Công thức: S(n) = 6n(n-1) + 1\n",
    "    Args: \n",
    "       n (int): Số nguyên dương\n",
    "    Returns:\n",
    "       int: Số sao thứ n\n",
    "    \"\"\"\n",
    "    if n <= 0:\n",
    "        raise ValueError(\"n phải là số nguyên dương\")\n",
    "    return 6 * n * (n-1) + 1\n",
    "def main():\n",
    "    try:\n",
    "        n = int(input(\"Nhập số nguyên dương n: \"))\n",
    "        if n <= 0:\n",
    "            print(\"Vui lòng nhập số nguyên dương!\")\n",
    "            return\n",
    "        result = star_number(n)\n",
    "        print(f\"Số sao thứ {n} là: {result}\")\n",
    "        print(\"\\nMột số sao đầu tiên:\")\n",
    "        for i in range(1, min(n+1, 11)):\n",
    "            print(f\"S({i}) = {star_number(i)}\")\n",
    "    except ValueError:\n",
    "        print(\"Vui lòng nhập một số nguyên hợp lệ!\")\n",
    "if __name__ == \"__main__\":\n",
    "    main()"
   ]
  },
  {
   "cell_type": "markdown",
   "id": "297c8952",
   "metadata": {},
   "source": [
    "## W2A16"
   ]
  },
  {
   "cell_type": "code",
   "execution_count": 22,
   "id": "def4ecf6",
   "metadata": {},
   "outputs": [
    {
     "name": "stdout",
     "output_type": "stream",
     "text": [
      "Spring\n",
      "Summer\n",
      "Autumn\n",
      "Winter\n"
     ]
    }
   ],
   "source": [
    "seasons = [\"Spring\", \"Summer\", \"Autumn\", \"Winter\"]\n",
    "for season in seasons:\n",
    "    print(season)\n"
   ]
  },
  {
   "cell_type": "markdown",
   "id": "fd1b296c",
   "metadata": {},
   "source": [
    "## W2A17"
   ]
  },
  {
   "cell_type": "code",
   "execution_count": 23,
   "id": "ebc38c5e",
   "metadata": {},
   "outputs": [
    {
     "name": "stdout",
     "output_type": "stream",
     "text": [
      "*\n",
      "***\n",
      "*****\n"
     ]
    }
   ],
   "source": [
    "print(\"*\" * 1)\n",
    "print(\"*\" * 3)\n",
    "print(\"*\" * 5)"
   ]
  },
  {
   "cell_type": "markdown",
   "id": "bbe2de3c",
   "metadata": {},
   "source": [
    "## W2A18"
   ]
  },
  {
   "cell_type": "code",
   "execution_count": 24,
   "id": "40708038",
   "metadata": {},
   "outputs": [
    {
     "name": "stdout",
     "output_type": "stream",
     "text": [
      "### # #   ### ###\n",
      " #  #  #   #   #\n",
      " #  #   #  #   #\n",
      " #  #  #   #   #\n",
      " #  # #    #   #\n"
     ]
    }
   ],
   "source": [
    "print(\"### # #   ### ###\")\n",
    "print(\" #  #  #   #   #\")\n",
    "print(\" #  #   #  #   #\")\n",
    "print(\" #  #  #   #   #\")\n",
    "print(\" #  # #    #   #\")"
   ]
  },
  {
   "cell_type": "markdown",
   "id": "6303c693",
   "metadata": {},
   "source": [
    "## W2A19"
   ]
  },
  {
   "cell_type": "code",
   "execution_count": 25,
   "id": "17579e04",
   "metadata": {},
   "outputs": [
    {
     "name": "stdout",
     "output_type": "stream",
     "text": [
      "Monday\n",
      "Tuesday\n",
      "Wednesday\n",
      "Thursday\n",
      "Friday\n",
      "Saturday\n",
      "Sunday\n"
     ]
    }
   ],
   "source": [
    "print(\"Monday\\nTuesday\\nWednesday\\nThursday\\nFriday\\nSaturday\\nSunday\")"
   ]
  },
  {
   "cell_type": "markdown",
   "id": "c2ac07a9",
   "metadata": {},
   "source": [
    "## W2A20"
   ]
  },
  {
   "cell_type": "code",
   "execution_count": 26,
   "id": "b9cfae13",
   "metadata": {},
   "outputs": [
    {
     "name": "stdout",
     "output_type": "stream",
     "text": [
      "January\n",
      "February\n",
      "March\n",
      "April\n",
      "May\n",
      "June\n",
      "July\n",
      "August\n",
      "September\n",
      "October\n",
      "November\n",
      "December\n"
     ]
    }
   ],
   "source": [
    "months = [\"January\", \"February\", \"March\", \"April\", \"May\", \"June\", \"July\", \"August\", \"September\", \"October\", \"November\", \"December\"]\n",
    "for month in months:\n",
    "    print(month)"
   ]
  },
  {
   "cell_type": "markdown",
   "id": "084d772f",
   "metadata": {},
   "source": [
    "## W2A21"
   ]
  },
  {
   "cell_type": "code",
   "execution_count": null,
   "id": "9afc23c1",
   "metadata": {},
   "outputs": [
    {
     "name": "stdout",
     "output_type": "stream",
     "text": [
      "Hello, world\n",
      "Hello, world\n",
      "Hello, world\n",
      "Hello, world\n",
      "Hello, world\n",
      "Hello, world\n",
      "Hello, world\n",
      "Hello, world\n",
      "Hello, world\n",
      "Hello, world\n"
     ]
    }
   ],
   "source": [
    "for _ in range(10):\n",
    "        print(\"Hello, world\")"
   ]
  }
 ],
 "metadata": {
  "kernelspec": {
   "display_name": "Python 3",
   "language": "python",
   "name": "python3"
  },
  "language_info": {
   "codemirror_mode": {
    "name": "ipython",
    "version": 3
   },
   "file_extension": ".py",
   "mimetype": "text/x-python",
   "name": "python",
   "nbconvert_exporter": "python",
   "pygments_lexer": "ipython3",
   "version": "3.13.7"
  }
 },
 "nbformat": 4,
 "nbformat_minor": 5
}
